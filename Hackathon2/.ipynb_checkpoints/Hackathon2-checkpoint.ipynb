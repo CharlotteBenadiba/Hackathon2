{
 "cells": [
  {
   "cell_type": "code",
   "execution_count": null,
   "id": "94855a53",
   "metadata": {
    "scrolled": true
   },
   "outputs": [],
   "source": [
    "import pandas as pd\n",
    "\n",
    "path = r'Foodex_2_L7_dashboard.xlsx'\n",
    "\n",
    "data = pd.read_excel(path, skiprows=2)\n",
    "EU_df = pd.DataFrame(data)\n"
   ]
  },
  {
   "cell_type": "code",
   "execution_count": null,
   "id": "384a2ba8",
   "metadata": {},
   "outputs": [],
   "source": [
    "EU_df[['Survey\\'s country', 'Survey start year', 'Survey name',\n",
    "       'Population Group (L2)', 'Exposure hierarchy (L1)',\n",
    "       'Exposure hierarchy (L2)', 'Exposure hierarchy (L3)',\n",
    "       'Exposure hierarchy (L4)', 'Exposure hierarchy (L5)',\n",
    "       'Exposure hierarchy (L6)', 'Exposure hierarchy (L7)',\n",
    "       'Number of subjects', 'Number of consumers', 'Mean']]"
   ]
  },
  {
   "cell_type": "code",
   "execution_count": null,
   "id": "d82c657a",
   "metadata": {},
   "outputs": [],
   "source": [
    "# I want to filter out non-adults out of the DF.\n",
    "\n",
    "filtered_surveys = EU_df[EU_df['Population Group (L2)']=='Adults']\n"
   ]
  },
  {
   "cell_type": "code",
   "execution_count": null,
   "id": "d16cf954",
   "metadata": {
    "scrolled": true
   },
   "outputs": [],
   "source": [
    "# Because there are multiple years in which survey were conducted, I wanted to take the most recent year only for each age cohort.\n",
    "\n",
    "most_recent_yr = filtered_surveys.groupby('Survey\\'s country')['Survey start year'].max()\n",
    "most_recent_yr = most_recent_yr.reset_index()"
   ]
  },
  {
   "cell_type": "code",
   "execution_count": null,
   "id": "7f4c7667",
   "metadata": {},
   "outputs": [],
   "source": [
    "# Filter the main dataframe by the most recent year for each country and age cohort.\n",
    "\n",
    "criteria = most_recent_yr[['Survey\\'s country','Survey start year']].values.tolist()\n",
    "\n",
    "filtered_surveys['Match'] = False # Default is False for this new column\n",
    "\n",
    "for index, row in  filtered_surveys.iterrows():\n",
    "    for cr in criteria:\n",
    "        if (row['Survey\\'s country'] == cr[0]\n",
    "                and row['Survey start year'] == cr[1]):\n",
    "             filtered_surveys.at[index, 'Match'] = True # If the df row falls w/in the criteria, change the default to True\n"
   ]
  },
  {
   "cell_type": "code",
   "execution_count": null,
   "id": "f778c281",
   "metadata": {},
   "outputs": [],
   "source": [
    "recent_surveys = filtered_surveys[filtered_surveys['Match']==True]"
   ]
  },
  {
   "cell_type": "code",
   "execution_count": null,
   "id": "c480bf2a",
   "metadata": {},
   "outputs": [],
   "source": [
    "surveys_post_2012 = recent_surveys[recent_surveys['Survey start year']>2012]\n"
   ]
  },
  {
   "cell_type": "code",
   "execution_count": null,
   "id": "3bbf0a1c",
   "metadata": {},
   "outputs": [],
   "source": [
    "final_df = surveys_post_2012[['Survey\\'s country', 'Survey start year', 'Survey name',\n",
    "       'Population Group (L2)', 'Exposure hierarchy (L1)',\n",
    "       'Exposure hierarchy (L2)', 'Exposure hierarchy (L3)',\n",
    "       'Exposure hierarchy (L4)', 'Exposure hierarchy (L5)',\n",
    "       'Exposure hierarchy (L6)', 'Exposure hierarchy (L7)',\n",
    "       'Number of subjects', 'Number of consumers', 'Mean']]"
   ]
  },
  {
   "cell_type": "code",
   "execution_count": null,
   "id": "42a3ce96",
   "metadata": {},
   "outputs": [],
   "source": [
    "# There is no column showing total grams of consumption for each row, but I can create it using other data\n",
    "\n",
    "final_df['Total grams'] = final_df['Mean'] * final_df['Number of subjects']"
   ]
  },
  {
   "cell_type": "code",
   "execution_count": null,
   "id": "c823d984",
   "metadata": {},
   "outputs": [],
   "source": [
    "# I want two dfs, one w/ alcoholic beverages and one with food only\n",
    "\n",
    "beverage_df = final_df[final_df['Exposure hierarchy (L1)'].str.contains('beverage', case=False)]\n",
    "\n",
    "food_df = final_df[~final_df['Exposure hierarchy (L1)'].str.contains('beverage', case=False)]\n"
   ]
  },
  {
   "cell_type": "code",
   "execution_count": null,
   "id": "ffa0cfb1",
   "metadata": {},
   "outputs": [],
   "source": [
    "# Data cleaning\n",
    "food_df = food_df[~food_df['Exposure hierarchy (L1)'].str.contains('tea',case=False)]\n",
    "food_df = food_df[food_df['Exposure hierarchy (L2)'] != 'Milk and dairy powders and concentrates']"
   ]
  },
  {
   "cell_type": "code",
   "execution_count": null,
   "id": "770ab531",
   "metadata": {},
   "outputs": [],
   "source": [
    "# Filter the food dataframe by the total food intake by country as the denoinator in my percentage calc\n",
    "\n",
    "criteria_food = food_df[['Survey\\'s country', 'Total grams']].values.tolist()\n",
    "\n",
    "criteria_food_dict = {row[0]: row[1] for row in criteria_food}\n",
    "\n",
    "# Assign Total consumed value to a new column by country\n",
    "food_df['Total consumed'] = food_df['Survey\\'s country'].map(criteria_dict)"
   ]
  },
  {
   "cell_type": "code",
   "execution_count": null,
   "id": "711cd186",
   "metadata": {},
   "outputs": [],
   "source": [
    "# I want to have a column showing how much of each row is as a percentage of the total\n",
    "\n",
    "food_df['Percent'] = food_df['Total grams']/food_df['Total consumed']\n",
    "food_df['Percent']=food_df['Percent']*100"
   ]
  },
  {
   "cell_type": "code",
   "execution_count": null,
   "id": "a24d4736",
   "metadata": {},
   "outputs": [],
   "source": [
    "# I want to do analysis of pasta specifically\n",
    "\n",
    "pasta_doughs_df =  food_df[food_df['Exposure hierarchy (L2)']=='Pasta, doughs and similar products']\n",
    "\n",
    "pasta_df = pasta_doughs_df[pasta_doughs_df['Exposure hierarchy (L3)'].str.contains('pasta',case=False)]"
   ]
  },
  {
   "cell_type": "code",
   "execution_count": null,
   "id": "a6666c88",
   "metadata": {},
   "outputs": [],
   "source": [
    "pasta_sum =  pasta_df.groupby('Survey\\'s country')['Percent'].sum().reset_index()"
   ]
  },
  {
   "cell_type": "markdown",
   "id": "b1192b5c",
   "metadata": {},
   "source": [
    "#  Who eats the most pasta?"
   ]
  },
  {
   "cell_type": "code",
   "execution_count": null,
   "id": "3e04c226",
   "metadata": {},
   "outputs": [],
   "source": [
    "# Displays biggest pasta consumers\n",
    "\n",
    "import seaborn as sns \n",
    "\n",
    "sorted_pasta_sum = pasta_sum.sort_values(by='Percent', ascending=True)\n",
    "\n",
    "plt.figure(figsize=(10, 6))\n",
    "sns.barplot(x='Survey\\'s country', y='Percent', data=sorted_pasta_sum)\n",
    "plt.title('Pasta as percentage of diet',fontweight='bold')\n",
    "plt.xticks(rotation=70) \n",
    "plt.xlabel('Country',fontweight='bold')\n",
    "plt.ylabel('Percentage',fontweight='bold')\n",
    "\n",
    "# Mark the highest and lowest bar with its percentage value\n",
    "highest_value = sorted_pasta_sum['Percent'].iloc[-1]\n",
    "plt.text(len(sorted_pasta_sum) - 1, highest_value, f'{highest_value:.1f}%', ha='center', va='bottom', fontsize=10)\n",
    "\n",
    "lowest_value = sorted_pasta_sum['Percent'].iloc[0]\n",
    "plt.text(0, lowest_value, f'{lowest_value:.1f}%', ha='center', va='bottom', fontsize=10)\n",
    "\n",
    "plt.show()"
   ]
  },
  {
   "cell_type": "code",
   "execution_count": null,
   "id": "fbf5f3d8",
   "metadata": {},
   "outputs": [],
   "source": [
    "weird_food =  food_df[food_df['Exposure hierarchy (L2)']=='Amphibians, reptiles, snails, insects']\n",
    "\n",
    "weird_food['Exposure hierarchy (L4)'].unique()"
   ]
  },
  {
   "cell_type": "code",
   "execution_count": null,
   "id": "b4722f59",
   "metadata": {},
   "outputs": [],
   "source": [
    "frog_df = weird_food[weird_food['Exposure hierarchy (L4)']=='Frogs meat']"
   ]
  },
  {
   "cell_type": "code",
   "execution_count": null,
   "id": "33bb58bf",
   "metadata": {},
   "outputs": [],
   "source": [
    "snail_df = weird_food[weird_food['Exposure hierarchy (L4)']=='Snails']"
   ]
  },
  {
   "cell_type": "code",
   "execution_count": null,
   "id": "547f2151",
   "metadata": {},
   "outputs": [],
   "source": [
    "frog_sum =  frog_df.groupby('Survey\\'s country')['Percent'].sum().reset_index()\n",
    "snail_sum =  snail_df.groupby('Survey\\'s country')['Percent'].sum().reset_index()\n"
   ]
  },
  {
   "cell_type": "markdown",
   "id": "3880abd7",
   "metadata": {},
   "source": [
    "# Who eats the weirdest foods?"
   ]
  },
  {
   "cell_type": "code",
   "execution_count": null,
   "id": "50015f76",
   "metadata": {},
   "outputs": [],
   "source": [
    "plt.figure(figsize=(12, 6))\n",
    "\n",
    "# I want in order from smallest to largest consumers\n",
    "sorted_frog_sum = frog_sum.sort_values(by='Percent')\n",
    "sorted_snail_df = snail_df.sort_values(by='Percent')\n",
    "\n",
    "plt.figure(figsize=(12, 6))\n",
    "\n",
    "plt.subplot(1, 2, 1)\n",
    "sns.barplot(x='Survey\\'s country', y='Percent', data=sorted_frog_sum, color='blue')\n",
    "plt.title('Frog as Percentage of Diet',fontweight='bold')\n",
    "plt.xlabel('Country',fontweight='bold')\n",
    "plt.ylabel('Percentage',fontweight='bold')\n",
    "plt.xticks(rotation=70)\n",
    "plt.tight_layout()\n",
    "\n",
    "plt.subplot(1, 2, 2)\n",
    "sns.barplot(x='Survey\\'s country', y='Percent', data=sorted_snail_df, color='orange')\n",
    "plt.title('Snail as Percentage of Diet',fontweight='bold')\n",
    "plt.xlabel('Country',fontweight='bold')\n",
    "plt.ylabel('Percentage',fontweight='bold')\n",
    "plt.xticks(rotation=70)\n",
    "plt.tight_layout()\n"
   ]
  },
  {
   "cell_type": "code",
   "execution_count": null,
   "id": "b1f953db",
   "metadata": {},
   "outputs": [],
   "source": [
    "meats_df = food_df[food_df['Exposure hierarchy (L1)']=='Meat and meat products']\n",
    "\n",
    "# I want to see beef specifically\n",
    "beef_df = meats_df[meats_df['Exposure hierarchy (L4)'].str.contains('beef|bovine',case=False)]"
   ]
  },
  {
   "cell_type": "code",
   "execution_count": null,
   "id": "6b772c2b",
   "metadata": {},
   "outputs": [],
   "source": [
    "beef_sum =  beef_df.groupby('Survey\\'s country')['Percent'].sum().reset_index()"
   ]
  },
  {
   "cell_type": "markdown",
   "id": "57527566",
   "metadata": {},
   "source": [
    "# Who loves beef?"
   ]
  },
  {
   "cell_type": "code",
   "execution_count": null,
   "id": "1cc44bfc",
   "metadata": {},
   "outputs": [],
   "source": [
    "plt.figure(figsize=(10, 8))\n",
    "plt.pie(beef_sum['Percent'], labels=beef_sum['Survey\\'s country'], autopct='%1.1f%%', startangle=140)\n",
    "plt.axis('equal') \n",
    "plt.title('Percent Beef Consumption of toyal diet by Country',fontweight='bold')\n",
    "plt.show()"
   ]
  },
  {
   "cell_type": "code",
   "execution_count": null,
   "id": "656cf000",
   "metadata": {},
   "outputs": [],
   "source": [
    "# Filter the main dataframe by the total beverage intake by country\n",
    "\n",
    "criteria_bev = total_bev[['Survey\\'s country', 'Total grams']].values.tolist()\n",
    "\n",
    "# Create a dictionary \n",
    "criteria_dict = {row[0]: row[1] for row in criteria_bev}\n",
    "\n",
    "# Assign Total consumed value to a new column by country\n",
    "beverage_df['Total consumed'] = beverage_df['Survey\\'s country'].map(criteria_dict)"
   ]
  },
  {
   "cell_type": "code",
   "execution_count": null,
   "id": "47ed8f84",
   "metadata": {},
   "outputs": [],
   "source": [
    "beverage_df['Percent'] = beverage_df['Total grams']/beverage_df['Total consumed']\n",
    "beverage_df['Percent']=beverage_df['Percent']*100\n"
   ]
  },
  {
   "cell_type": "code",
   "execution_count": null,
   "id": "8691e590",
   "metadata": {},
   "outputs": [],
   "source": [
    "# I want to see what people drink other than water\n",
    "\n",
    "nonwater_df = beverage_df[~beverage_df['Exposure hierarchy (L2)'].str.contains('water',case=False)]\n",
    "\n",
    "nonwater_perc = nonwater_df.groupby(['Survey\\'s country','Exposure hierarchy (L2)'])['Percent'].sum().reset_index()"
   ]
  },
  {
   "cell_type": "code",
   "execution_count": null,
   "id": "a9f3498f",
   "metadata": {},
   "outputs": [],
   "source": [
    "nonwater_perc_total = nonwater_perc.groupby(['Survey\\'s country'])['Percent'].sum().reset_index()\n"
   ]
  },
  {
   "cell_type": "code",
   "execution_count": null,
   "id": "6822578d",
   "metadata": {},
   "outputs": [],
   "source": [
    "# I want to take the percentages of only non-water beverages as percent of non-water beverages\n",
    "\n",
    "criteria_alc_tot = nonwater_perc_total[['Survey\\'s country', 'Percent']].values.tolist()\n",
    " \n",
    "criteria_alc_tot_dict = {row[0]: row[1] for row in criteria_alc_tot}\n",
    "\n",
    "nonwater_perc['Functional perc total'] = nonwater_perc['Survey\\'s country'].map(criteria_alc_tot_dict)"
   ]
  },
  {
   "cell_type": "code",
   "execution_count": null,
   "id": "285dfd8f",
   "metadata": {},
   "outputs": [],
   "source": [
    "nonwater_perc['Functional perc']=nonwater_perc['Percent']/nonwater_perc['Functional perc total']\n",
    "nonwater_perc['Functional perc']=nonwater_perc['Functional perc']*100"
   ]
  },
  {
   "cell_type": "markdown",
   "id": "ae6f3f08",
   "metadata": {},
   "source": [
    "# What alcohol do people like to drink?"
   ]
  },
  {
   "cell_type": "code",
   "execution_count": null,
   "id": "21933a2a",
   "metadata": {},
   "outputs": [],
   "source": [
    "import matplotlib.pyplot as plt\n",
    "\n",
    "# Get unique countries in the DataFrame\n",
    "unique_countries = nonwater_perc['Survey\\'s country'].unique()\n",
    "\n",
    "# Filter DF for each unique country and create pie charts\n",
    "for c in unique_countries:\n",
    "    country_data = nonwater_perc[nonwater_perc['Survey\\'s country'] == c]\n",
    "    group_data = country_data.groupby('Exposure hierarchy (L2)')['Functional perc'].sum()\n",
    "\n",
    "    # Group small values into 'Other' category\n",
    "    other_data = group_data[group_data > 3]\n",
    "    other_data['Other'] = group_data[group_data < 3].sum()\n",
    "\n",
    "    plt.figure(figsize=(8, 6))\n",
    "    plt.pie(other_data, labels=other_data.index, autopct='%1.1f%%')\n",
    "    plt.title(f'Favorite alcohol in {c}')\n",
    "    plt.show()\n",
    "    \n",
    "    if 'Beer and beer-like beverage' in other_data and other_data['Beer and beer-like beverage'] > largest_beer_slice:\n",
    "        largest_beer_slice = other_data['Beer and beer-like beverage']\n",
    "        largest_beer_country = c\n",
    "\n",
    "    if 'Wine and wine-like drinks' in other_data and other_data['Wine and wine-like drinks'] > largest_wine_slice:\n",
    "        largest_wine_slice = other_data['Wine and wine-like drinks']\n",
    "        largest_wine_country = c\n",
    "        \n",
    "print(f'''\n",
    "The country that loves Beer the most is {largest_beer_country}! With {largest_beer_slice:.1f} of its non-water beverage consumption, \n",
    "{largest_beer_country} loves this hoppy fizzy bar favourite \\n\n",
    "The country that loves Wine the most is {largest_wine_country}! With {largest_wine_slice:.1f} of its non-water beverage consumption,\n",
    "{largest_wine_country} loves this elegant and complex symbol of status''')\n",
    "        "
   ]
  },
  {
   "cell_type": "code",
   "execution_count": null,
   "id": "62d097b8",
   "metadata": {},
   "outputs": [],
   "source": [
    "wine_perc = nonwater_perc[nonwater_perc['Exposure hierarchy (L2)'].str.contains('wine',case=False)]"
   ]
  },
  {
   "cell_type": "code",
   "execution_count": null,
   "id": "f063b579",
   "metadata": {},
   "outputs": [],
   "source": [
    "wine_df = wine_perc[['Survey\\'s country','Functional perc']]\n"
   ]
  },
  {
   "cell_type": "markdown",
   "id": "f6a59586",
   "metadata": {},
   "source": [
    "# How does beef and wine go together?"
   ]
  },
  {
   "cell_type": "code",
   "execution_count": null,
   "id": "df7a3b57",
   "metadata": {},
   "outputs": [],
   "source": [
    "merged_df = pd.merge(wine_df, beef_sum, on='Survey\\'s country')\n",
    "\n",
    "column_mapping = {\n",
    "    'Survey\\'s country': 'Country',\n",
    "    'Functional perc': 'Wine Percent',\n",
    "    'Percent': 'Beef Percent'\n",
    "}\n",
    "\n",
    "# Rename columns in the DataFrame\n",
    "merged_df = merged_df.rename(columns=column_mapping)\n",
    "\n",
    "plt.figure(figsize=(8, 6))\n",
    "scatterplot = sns.scatterplot(x='Wine Percentage', y='Beef Percentage', data=merged_df)\n",
    "sns.regplot(x='Wine Percentage', y='Beef Percentage', data=merged_df, scatter=False, ax=scatterplot)\n",
    "scatterplot.set_title('Scatterplot with Correlation Line', fontweight='bold')\n",
    "plt.show()\n"
   ]
  },
  {
   "cell_type": "code",
   "execution_count": null,
   "id": "a6c9fd00",
   "metadata": {},
   "outputs": [],
   "source": [
    "choc_df = food_df[food_df['Exposure hierarchy (L4)'].str.contains('chocolate',case=False)]"
   ]
  },
  {
   "cell_type": "code",
   "execution_count": null,
   "id": "17a53d27",
   "metadata": {},
   "outputs": [],
   "source": [
    "choc_sum =  choc_df.groupby('Survey\\'s country')['Percent'].sum().reset_index()"
   ]
  },
  {
   "cell_type": "markdown",
   "id": "ccafe0ab",
   "metadata": {},
   "source": [
    "# Saving the sweetest for last"
   ]
  },
  {
   "cell_type": "code",
   "execution_count": null,
   "id": "e137aacb",
   "metadata": {},
   "outputs": [],
   "source": [
    "sorted_choc_sum = choc_sum.sort_values(by='Percent', ascending=True)\n",
    "\n",
    "plt.figure(figsize=(10, 6))\n",
    "sns.barplot(x='Survey\\'s country', y='Percent', data=sorted_choc_sum)\n",
    "plt.title('Chocolate as percentage of diet',fontweight='bold')\n",
    "plt.xticks(rotation=70) \n",
    "plt.xlabel('Country',fontweight='bold')\n",
    "plt.ylabel('Percentage',fontweight='bold')\n",
    "\n",
    "# Mark the highest and lowest bar with its percentage value\n",
    "highest_value = sorted_choc_sum['Percent'].iloc[-1]\n",
    "plt.text(len(sorted_choc_sum) - 1, highest_value, f'{highest_value:.1f}%', ha='center', va='bottom', fontsize=10)\n",
    "\n",
    "lowest_value = sorted_choc_sum['Percent'].iloc[0]\n",
    "plt.text(0, lowest_value, f'{lowest_value:.1f}%', ha='center', va='bottom', fontsize=10)\n",
    "\n",
    "plt.show()"
   ]
  },
  {
   "cell_type": "markdown",
   "id": "efcded2b",
   "metadata": {},
   "source": [
    "# Waffles are from Belgium"
   ]
  },
  {
   "cell_type": "code",
   "execution_count": 1174,
   "id": "3935c5b6",
   "metadata": {},
   "outputs": [],
   "source": [
    "baked = food_df[food_df['Exposure hierarchy (L2)'].str.contains('fine bakery wares',case=False)]"
   ]
  },
  {
   "cell_type": "code",
   "execution_count": null,
   "id": "090efb1d",
   "metadata": {},
   "outputs": [],
   "source": [
    "# Adding total baked goods column as denominator in % calc\n",
    "\n",
    "baked_total = baked.groupby('Survey\\'s country')['Total grams'].sum().reset_index()\n",
    "            \n",
    "criteria_baked = baked_total[['Survey\\'s country', 'Total grams']].values.tolist()\n",
    "\n",
    "criteria_baked_dict = {row[0]: row[1] for row in criteria_baked}\n",
    "\n",
    "# Assign Total baked goods consumed value to a new column by country\n",
    "baked['Total baked goods consumed'] = baked['Survey\\'s country'].map(criteria_baked_dict)              "
   ]
  },
  {
   "cell_type": "code",
   "execution_count": null,
   "id": "e9fffaaa",
   "metadata": {},
   "outputs": [],
   "source": [
    "baked['As perc of baked goods'] = baked['Total grams']/baked['Total baked goods consumed']"
   ]
  },
  {
   "cell_type": "code",
   "execution_count": null,
   "id": "64284e83",
   "metadata": {},
   "outputs": [],
   "source": [
    "baked['As perc of baked goods']=baked['As perc of baked goods']*100"
   ]
  },
  {
   "cell_type": "code",
   "execution_count": 1178,
   "id": "668aef9d",
   "metadata": {
    "scrolled": true
   },
   "outputs": [],
   "source": [
    "waffles = baked[baked['Exposure hierarchy (L4)'].str.contains('waffle',case=False)]"
   ]
  },
  {
   "cell_type": "code",
   "execution_count": 1179,
   "id": "3e0746d2",
   "metadata": {},
   "outputs": [],
   "source": [
    "waffles_sum =  waffles.groupby('Survey\\'s country')['As perc of baked goods'].sum().reset_index()"
   ]
  },
  {
   "cell_type": "code",
   "execution_count": 1186,
   "id": "54d63bb0",
   "metadata": {},
   "outputs": [
    {
     "data": {
      "image/png": "[encoded data removed]",
      "text/plain": [
       "<Figure size 720x432 with 1 Axes>"
      ]
     },
     "metadata": {
      "needs_background": "light"
     },
     "output_type": "display_data"
    }
   ],
   "source": [
    "sorted_waffle = waffles_sum.sort_values(by='As perc of baked goods', ascending=True)\n",
    "\n",
    "plt.figure(figsize=(10, 6))\n",
    "sns.barplot(x='Survey\\'s country', y='As perc of baked goods', data=sorted_waffle)\n",
    "plt.title('Waffles as percentage of baked goods consumed',fontweight='bold')\n",
    "plt.xticks(rotation=70) \n",
    "plt.xlabel('Country',fontweight='bold')\n",
    "plt.ylabel('Percentage',fontweight='bold')\n",
    "\n",
    "# Mark the highest and lowest bar with its percentage value\n",
    "highest_value = sorted_waffle['As perc of baked goods'].iloc[-1]\n",
    "plt.text(len(sorted_waffle) - 1, highest_value, f'{highest_value:.1f}%', ha='center', va='bottom', fontsize=10)\n",
    "\n",
    "lowest_value = sorted_waffle['As perc of baked goods'].iloc[0]\n",
    "plt.text(0, lowest_value, f'{lowest_value:.1f}%', ha='center', va='bottom', fontsize=10)\n",
    "\n",
    "plt.show()"
   ]
  }
 ],
 "metadata": {
  "kernelspec": {
   "display_name": "Python 3",
   "language": "python",
   "name": "python3"
  },
  "language_info": {
   "codemirror_mode": {
    "name": "ipython",
    "version": 3
   },
   "file_extension": ".py",
   "mimetype": "text/x-python",
   "name": "python",
   "nbconvert_exporter": "python",
   "pygments_lexer": "ipython3",
   "version": "3.8.8"
  }
 },
 "nbformat": 4,
 "nbformat_minor": 5
}
