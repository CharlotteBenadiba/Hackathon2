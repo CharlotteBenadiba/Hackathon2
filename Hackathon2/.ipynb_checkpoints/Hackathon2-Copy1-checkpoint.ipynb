{
 "cells": [
  {
   "cell_type": "code",
   "execution_count": 1194,
   "id": "949fb5fb",
   "metadata": {
    "scrolled": true
   },
   "outputs": [
    {
     "ename": "FileNotFoundError",
     "evalue": "[Errno 2] No such file or directory: 'Foodex_2_L2_dashboard.xlsx'",
     "output_type": "error",
     "traceback": [
      "\u001b[1;31m---------------------------------------------------------------------------\u001b[0m",
      "\u001b[1;31mFileNotFoundError\u001b[0m                         Traceback (most recent call last)",
      "\u001b[1;32m<ipython-input-1194-8432b958536d>\u001b[0m in \u001b[0;36m<module>\u001b[1;34m\u001b[0m\n\u001b[0;32m      3\u001b[0m \u001b[0mpath\u001b[0m \u001b[1;33m=\u001b[0m \u001b[1;34mr'Foodex_2_L2_dashboard.xlsx'\u001b[0m\u001b[1;33m\u001b[0m\u001b[1;33m\u001b[0m\u001b[0m\n\u001b[0;32m      4\u001b[0m \u001b[1;33m\u001b[0m\u001b[0m\n\u001b[1;32m----> 5\u001b[1;33m \u001b[0mdata\u001b[0m \u001b[1;33m=\u001b[0m \u001b[0mpd\u001b[0m\u001b[1;33m.\u001b[0m\u001b[0mread_excel\u001b[0m\u001b[1;33m(\u001b[0m\u001b[0mpath\u001b[0m\u001b[1;33m,\u001b[0m \u001b[0mskiprows\u001b[0m\u001b[1;33m=\u001b[0m\u001b[1;36m2\u001b[0m\u001b[1;33m)\u001b[0m\u001b[1;33m\u001b[0m\u001b[1;33m\u001b[0m\u001b[0m\n\u001b[0m\u001b[0;32m      6\u001b[0m \u001b[0mEU_df\u001b[0m \u001b[1;33m=\u001b[0m \u001b[0mpd\u001b[0m\u001b[1;33m.\u001b[0m\u001b[0mDataFrame\u001b[0m\u001b[1;33m(\u001b[0m\u001b[0mdata\u001b[0m\u001b[1;33m)\u001b[0m\u001b[1;33m\u001b[0m\u001b[1;33m\u001b[0m\u001b[0m\n",
      "\u001b[1;32m~\\anaconda3\\lib\\site-packages\\pandas\\util\\_decorators.py\u001b[0m in \u001b[0;36mwrapper\u001b[1;34m(*args, **kwargs)\u001b[0m\n\u001b[0;32m    297\u001b[0m                 )\n\u001b[0;32m    298\u001b[0m                 \u001b[0mwarnings\u001b[0m\u001b[1;33m.\u001b[0m\u001b[0mwarn\u001b[0m\u001b[1;33m(\u001b[0m\u001b[0mmsg\u001b[0m\u001b[1;33m,\u001b[0m \u001b[0mFutureWarning\u001b[0m\u001b[1;33m,\u001b[0m \u001b[0mstacklevel\u001b[0m\u001b[1;33m=\u001b[0m\u001b[0mstacklevel\u001b[0m\u001b[1;33m)\u001b[0m\u001b[1;33m\u001b[0m\u001b[1;33m\u001b[0m\u001b[0m\n\u001b[1;32m--> 299\u001b[1;33m             \u001b[1;32mreturn\u001b[0m \u001b[0mfunc\u001b[0m\u001b[1;33m(\u001b[0m\u001b[1;33m*\u001b[0m\u001b[0margs\u001b[0m\u001b[1;33m,\u001b[0m \u001b[1;33m**\u001b[0m\u001b[0mkwargs\u001b[0m\u001b[1;33m)\u001b[0m\u001b[1;33m\u001b[0m\u001b[1;33m\u001b[0m\u001b[0m\n\u001b[0m\u001b[0;32m    300\u001b[0m \u001b[1;33m\u001b[0m\u001b[0m\n\u001b[0;32m    301\u001b[0m         \u001b[1;32mreturn\u001b[0m \u001b[0mwrapper\u001b[0m\u001b[1;33m\u001b[0m\u001b[1;33m\u001b[0m\u001b[0m\n",
      "\u001b[1;32m~\\anaconda3\\lib\\site-packages\\pandas\\io\\excel\\_base.py\u001b[0m in \u001b[0;36mread_excel\u001b[1;34m(io, sheet_name, header, names, index_col, usecols, squeeze, dtype, engine, converters, true_values, false_values, skiprows, nrows, na_values, keep_default_na, na_filter, verbose, parse_dates, date_parser, thousands, comment, skipfooter, convert_float, mangle_dupe_cols, storage_options)\u001b[0m\n\u001b[0;32m    334\u001b[0m     \u001b[1;32mif\u001b[0m \u001b[1;32mnot\u001b[0m \u001b[0misinstance\u001b[0m\u001b[1;33m(\u001b[0m\u001b[0mio\u001b[0m\u001b[1;33m,\u001b[0m \u001b[0mExcelFile\u001b[0m\u001b[1;33m)\u001b[0m\u001b[1;33m:\u001b[0m\u001b[1;33m\u001b[0m\u001b[1;33m\u001b[0m\u001b[0m\n\u001b[0;32m    335\u001b[0m         \u001b[0mshould_close\u001b[0m \u001b[1;33m=\u001b[0m \u001b[1;32mTrue\u001b[0m\u001b[1;33m\u001b[0m\u001b[1;33m\u001b[0m\u001b[0m\n\u001b[1;32m--> 336\u001b[1;33m         \u001b[0mio\u001b[0m \u001b[1;33m=\u001b[0m \u001b[0mExcelFile\u001b[0m\u001b[1;33m(\u001b[0m\u001b[0mio\u001b[0m\u001b[1;33m,\u001b[0m \u001b[0mstorage_options\u001b[0m\u001b[1;33m=\u001b[0m\u001b[0mstorage_options\u001b[0m\u001b[1;33m,\u001b[0m \u001b[0mengine\u001b[0m\u001b[1;33m=\u001b[0m\u001b[0mengine\u001b[0m\u001b[1;33m)\u001b[0m\u001b[1;33m\u001b[0m\u001b[1;33m\u001b[0m\u001b[0m\n\u001b[0m\u001b[0;32m    337\u001b[0m     \u001b[1;32melif\u001b[0m \u001b[0mengine\u001b[0m \u001b[1;32mand\u001b[0m \u001b[0mengine\u001b[0m \u001b[1;33m!=\u001b[0m \u001b[0mio\u001b[0m\u001b[1;33m.\u001b[0m\u001b[0mengine\u001b[0m\u001b[1;33m:\u001b[0m\u001b[1;33m\u001b[0m\u001b[1;33m\u001b[0m\u001b[0m\n\u001b[0;32m    338\u001b[0m         raise ValueError(\n",
      "\u001b[1;32m~\\anaconda3\\lib\\site-packages\\pandas\\io\\excel\\_base.py\u001b[0m in \u001b[0;36m__init__\u001b[1;34m(self, path_or_buffer, engine, storage_options)\u001b[0m\n\u001b[0;32m   1069\u001b[0m                 \u001b[0mext\u001b[0m \u001b[1;33m=\u001b[0m \u001b[1;34m\"xls\"\u001b[0m\u001b[1;33m\u001b[0m\u001b[1;33m\u001b[0m\u001b[0m\n\u001b[0;32m   1070\u001b[0m             \u001b[1;32melse\u001b[0m\u001b[1;33m:\u001b[0m\u001b[1;33m\u001b[0m\u001b[1;33m\u001b[0m\u001b[0m\n\u001b[1;32m-> 1071\u001b[1;33m                 ext = inspect_excel_format(\n\u001b[0m\u001b[0;32m   1072\u001b[0m                     \u001b[0mcontent\u001b[0m\u001b[1;33m=\u001b[0m\u001b[0mpath_or_buffer\u001b[0m\u001b[1;33m,\u001b[0m \u001b[0mstorage_options\u001b[0m\u001b[1;33m=\u001b[0m\u001b[0mstorage_options\u001b[0m\u001b[1;33m\u001b[0m\u001b[1;33m\u001b[0m\u001b[0m\n\u001b[0;32m   1073\u001b[0m                 )\n",
      "\u001b[1;32m~\\anaconda3\\lib\\site-packages\\pandas\\io\\excel\\_base.py\u001b[0m in \u001b[0;36minspect_excel_format\u001b[1;34m(path, content, storage_options)\u001b[0m\n\u001b[0;32m    947\u001b[0m     \u001b[1;32massert\u001b[0m \u001b[0mcontent_or_path\u001b[0m \u001b[1;32mis\u001b[0m \u001b[1;32mnot\u001b[0m \u001b[1;32mNone\u001b[0m\u001b[1;33m\u001b[0m\u001b[1;33m\u001b[0m\u001b[0m\n\u001b[0;32m    948\u001b[0m \u001b[1;33m\u001b[0m\u001b[0m\n\u001b[1;32m--> 949\u001b[1;33m     with get_handle(\n\u001b[0m\u001b[0;32m    950\u001b[0m         \u001b[0mcontent_or_path\u001b[0m\u001b[1;33m,\u001b[0m \u001b[1;34m\"rb\"\u001b[0m\u001b[1;33m,\u001b[0m \u001b[0mstorage_options\u001b[0m\u001b[1;33m=\u001b[0m\u001b[0mstorage_options\u001b[0m\u001b[1;33m,\u001b[0m \u001b[0mis_text\u001b[0m\u001b[1;33m=\u001b[0m\u001b[1;32mFalse\u001b[0m\u001b[1;33m\u001b[0m\u001b[1;33m\u001b[0m\u001b[0m\n\u001b[0;32m    951\u001b[0m     ) as handle:\n",
      "\u001b[1;32m~\\anaconda3\\lib\\site-packages\\pandas\\io\\common.py\u001b[0m in \u001b[0;36mget_handle\u001b[1;34m(path_or_buf, mode, encoding, compression, memory_map, is_text, errors, storage_options)\u001b[0m\n\u001b[0;32m    649\u001b[0m         \u001b[1;32melse\u001b[0m\u001b[1;33m:\u001b[0m\u001b[1;33m\u001b[0m\u001b[1;33m\u001b[0m\u001b[0m\n\u001b[0;32m    650\u001b[0m             \u001b[1;31m# Binary mode\u001b[0m\u001b[1;33m\u001b[0m\u001b[1;33m\u001b[0m\u001b[1;33m\u001b[0m\u001b[0m\n\u001b[1;32m--> 651\u001b[1;33m             \u001b[0mhandle\u001b[0m \u001b[1;33m=\u001b[0m \u001b[0mopen\u001b[0m\u001b[1;33m(\u001b[0m\u001b[0mhandle\u001b[0m\u001b[1;33m,\u001b[0m \u001b[0mioargs\u001b[0m\u001b[1;33m.\u001b[0m\u001b[0mmode\u001b[0m\u001b[1;33m)\u001b[0m\u001b[1;33m\u001b[0m\u001b[1;33m\u001b[0m\u001b[0m\n\u001b[0m\u001b[0;32m    652\u001b[0m         \u001b[0mhandles\u001b[0m\u001b[1;33m.\u001b[0m\u001b[0mappend\u001b[0m\u001b[1;33m(\u001b[0m\u001b[0mhandle\u001b[0m\u001b[1;33m)\u001b[0m\u001b[1;33m\u001b[0m\u001b[1;33m\u001b[0m\u001b[0m\n\u001b[0;32m    653\u001b[0m \u001b[1;33m\u001b[0m\u001b[0m\n",
      "\u001b[1;31mFileNotFoundError\u001b[0m: [Errno 2] No such file or directory: 'Foodex_2_L2_dashboard.xlsx'"
     ]
    }
   ],
   "source": [
    "import pandas as pd\n",
    "\n",
    "path = r'Foodex_2_L2_dashboard.xlsx'\n",
    "\n",
    "data = pd.read_excel(path, skiprows=2)\n",
    "EU_df = pd.DataFrame(data)\n"
   ]
  },
  {
   "cell_type": "code",
   "execution_count": null,
   "id": "9c486f6e",
   "metadata": {},
   "outputs": [],
   "source": [
    "EU_df[['Survey\\'s country', 'Survey start year', 'Survey name',\n",
    "       'Population Group (L2)', 'Exposure hierarchy (L1)',\n",
    "       'Exposure hierarchy (L2)', 'Exposure hierarchy (L3)',\n",
    "       'Exposure hierarchy (L4)', 'Exposure hierarchy (L5)',\n",
    "       'Exposure hierarchy (L6)', 'Exposure hierarchy (L7)',\n",
    "       'Number of subjects', 'Number of consumers', 'Mean']]"
   ]
  },
  {
   "cell_type": "code",
   "execution_count": null,
   "id": "1da5cd00",
   "metadata": {},
   "outputs": [],
   "source": [
    "# I want to filter out non-adults out of the DF.\n",
    "\n",
    "filtered_surveys = EU_df[EU_df['Population Group (L2)']=='Adults']\n"
   ]
  },
  {
   "cell_type": "code",
   "execution_count": null,
   "id": "39a616c7",
   "metadata": {
    "scrolled": true
   },
   "outputs": [],
   "source": [
    "# Because there are multiple years in which survey were conducted, I wanted to take the most recent year only for each age cohort.\n",
    "\n",
    "most_recent_yr = filtered_surveys.groupby('Survey\\'s country')['Survey start year'].max()\n",
    "most_recent_yr = most_recent_yr.reset_index()"
   ]
  },
  {
   "cell_type": "code",
   "execution_count": null,
   "id": "219ee110",
   "metadata": {},
   "outputs": [],
   "source": [
    "# Filter the main dataframe by the most recent year for each country and age cohort.\n",
    "\n",
    "criteria = most_recent_yr[['Survey\\'s country','Survey start year']].values.tolist()\n",
    "\n",
    "filtered_surveys['Match'] = False # Default is False for this new column\n",
    "\n",
    "for index, row in  filtered_surveys.iterrows():\n",
    "    for cr in criteria:\n",
    "        if (row['Survey\\'s country'] == cr[0]\n",
    "                and row['Survey start year'] == cr[1]):\n",
    "             filtered_surveys.at[index, 'Match'] = True # If the df row falls w/in the criteria, change the default to True\n"
   ]
  },
  {
   "cell_type": "code",
   "execution_count": null,
   "id": "144b2a2c",
   "metadata": {},
   "outputs": [],
   "source": [
    "recent_surveys = filtered_surveys[filtered_surveys['Match']==True]"
   ]
  },
  {
   "cell_type": "code",
   "execution_count": null,
   "id": "db4e6bf8",
   "metadata": {},
   "outputs": [],
   "source": [
    "surveys_post_2012 = recent_surveys[recent_surveys['Survey start year']>2012]\n"
   ]
  },
  {
   "cell_type": "code",
   "execution_count": null,
   "id": "fd1a6c9a",
   "metadata": {},
   "outputs": [],
   "source": [
    "final_df = surveys_post_2012[['Survey\\'s country', 'Survey start year', 'Survey name',\n",
    "       'Population Group (L2)', 'Exposure hierarchy (L1)',\n",
    "       'Exposure hierarchy (L2)', 'Exposure hierarchy (L3)',\n",
    "       'Exposure hierarchy (L4)', 'Exposure hierarchy (L5)',\n",
    "       'Exposure hierarchy (L6)', 'Exposure hierarchy (L7)',\n",
    "       'Number of subjects', 'Number of consumers', 'Mean']]"
   ]
  },
  {
   "cell_type": "code",
   "execution_count": null,
   "id": "1c2c9c09",
   "metadata": {},
   "outputs": [],
   "source": [
    "# There is no column showing total grams of consumption for each row, but I can create it using other data\n",
    "\n",
    "final_df['Total grams'] = final_df['Mean'] * final_df['Number of subjects']"
   ]
  },
  {
   "cell_type": "code",
   "execution_count": null,
   "id": "1dcd722c",
   "metadata": {},
   "outputs": [],
   "source": [
    "# I want two dfs, one w/ alcoholic beverages and one with food only\n",
    "\n",
    "beverage_df = final_df[final_df['Exposure hierarchy (L1)'].str.contains('beverage', case=False)]\n",
    "\n",
    "food_df = final_df[~final_df['Exposure hierarchy (L1)'].str.contains('beverage', case=False)]\n"
   ]
  },
  {
   "cell_type": "code",
   "execution_count": null,
   "id": "8baf2549",
   "metadata": {},
   "outputs": [],
   "source": [
    "# Data cleaning\n",
    "food_df = food_df[~food_df['Exposure hierarchy (L1)'].str.contains('tea',case=False)]\n",
    "food_df = food_df[food_df['Exposure hierarchy (L2)'] != 'Milk and dairy powders and concentrates']"
   ]
  },
  {
   "cell_type": "code",
   "execution_count": null,
   "id": "70013bed",
   "metadata": {},
   "outputs": [],
   "source": [
    "# Filter the food dataframe by the total food intake by country as the denoinator in my percentage calc\n",
    "\n",
    "criteria_food = food_df[['Survey\\'s country', 'Total grams']].values.tolist()\n",
    "\n",
    "criteria_food_dict = {row[0]: row[1] for row in criteria_food}\n",
    "\n",
    "# Assign Total consumed value to a new column by country\n",
    "food_df['Total consumed'] = food_df['Survey\\'s country'].map(criteria_dict)"
   ]
  },
  {
   "cell_type": "code",
   "execution_count": null,
   "id": "26856db4",
   "metadata": {},
   "outputs": [],
   "source": [
    "# I want to have a column showing how much of each row is as a percentage of the total\n",
    "\n",
    "food_df['Percent'] = food_df['Total grams']/food_df['Total consumed']\n",
    "food_df['Percent']=food_df['Percent']*100"
   ]
  },
  {
   "cell_type": "code",
   "execution_count": null,
   "id": "a923d8d2",
   "metadata": {},
   "outputs": [],
   "source": [
    "# I want to do analysis of pasta specifically\n",
    "\n",
    "pasta_doughs_df =  food_df[food_df['Exposure hierarchy (L2)']=='Pasta, doughs and similar products']\n",
    "\n",
    "pasta_df = pasta_doughs_df[pasta_doughs_df['Exposure hierarchy (L3)'].str.contains('pasta',case=False)]"
   ]
  },
  {
   "cell_type": "code",
   "execution_count": null,
   "id": "0cd7fc4d",
   "metadata": {},
   "outputs": [],
   "source": [
    "pasta_sum =  pasta_df.groupby('Survey\\'s country')['Percent'].sum().reset_index()"
   ]
  },
  {
   "cell_type": "markdown",
   "id": "5ca48b44",
   "metadata": {},
   "source": [
    "#  Who eats the most pasta?"
   ]
  },
  {
   "cell_type": "code",
   "execution_count": null,
   "id": "87d03f97",
   "metadata": {},
   "outputs": [],
   "source": [
    "# Displays biggest pasta consumers\n",
    "\n",
    "import seaborn as sns \n",
    "\n",
    "sorted_pasta_sum = pasta_sum.sort_values(by='Percent', ascending=True)\n",
    "\n",
    "plt.figure(figsize=(10, 6))\n",
    "sns.barplot(x='Survey\\'s country', y='Percent', data=sorted_pasta_sum)\n",
    "plt.title('Pasta as percentage of diet',fontweight='bold')\n",
    "plt.xticks(rotation=70) \n",
    "plt.xlabel('Country',fontweight='bold')\n",
    "plt.ylabel('Percentage',fontweight='bold')\n",
    "\n",
    "# Mark the highest and lowest bar with its percentage value\n",
    "highest_value = sorted_pasta_sum['Percent'].iloc[-1]\n",
    "plt.text(len(sorted_pasta_sum) - 1, highest_value, f'{highest_value:.1f}%', ha='center', va='bottom', fontsize=10)\n",
    "\n",
    "lowest_value = sorted_pasta_sum['Percent'].iloc[0]\n",
    "plt.text(0, lowest_value, f'{lowest_value:.1f}%', ha='center', va='bottom', fontsize=10)\n",
    "\n",
    "plt.show()"
   ]
  },
  {
   "cell_type": "code",
   "execution_count": null,
   "id": "70a5fccf",
   "metadata": {},
   "outputs": [],
   "source": [
    "weird_food =  food_df[food_df['Exposure hierarchy (L2)']=='Amphibians, reptiles, snails, insects']\n",
    "\n",
    "weird_food['Exposure hierarchy (L4)'].unique()"
   ]
  },
  {
   "cell_type": "code",
   "execution_count": null,
   "id": "7705f0e4",
   "metadata": {},
   "outputs": [],
   "source": [
    "frog_df = weird_food[weird_food['Exposure hierarchy (L4)']=='Frogs meat']"
   ]
  },
  {
   "cell_type": "code",
   "execution_count": null,
   "id": "d83e3cf1",
   "metadata": {},
   "outputs": [],
   "source": [
    "snail_df = weird_food[weird_food['Exposure hierarchy (L4)']=='Snails']"
   ]
  },
  {
   "cell_type": "code",
   "execution_count": null,
   "id": "3aeb469e",
   "metadata": {},
   "outputs": [],
   "source": [
    "frog_sum =  frog_df.groupby('Survey\\'s country')['Percent'].sum().reset_index()\n",
    "snail_sum =  snail_df.groupby('Survey\\'s country')['Percent'].sum().reset_index()\n"
   ]
  },
  {
   "cell_type": "markdown",
   "id": "3832df15",
   "metadata": {},
   "source": [
    "# Who eats the weirdest foods?"
   ]
  },
  {
   "cell_type": "code",
   "execution_count": null,
   "id": "b8090d42",
   "metadata": {},
   "outputs": [],
   "source": [
    "plt.figure(figsize=(12, 6))\n",
    "\n",
    "# I want in order from smallest to largest consumers\n",
    "sorted_frog_sum = frog_sum.sort_values(by='Percent')\n",
    "sorted_snail_df = snail_df.sort_values(by='Percent')\n",
    "\n",
    "plt.figure(figsize=(12, 6))\n",
    "\n",
    "plt.subplot(1, 2, 1)\n",
    "sns.barplot(x='Survey\\'s country', y='Percent', data=sorted_frog_sum, color='blue')\n",
    "plt.title('Frog as Percentage of Diet',fontweight='bold')\n",
    "plt.xlabel('Country',fontweight='bold')\n",
    "plt.ylabel('Percentage',fontweight='bold')\n",
    "plt.xticks(rotation=70)\n",
    "plt.tight_layout()\n",
    "\n",
    "plt.subplot(1, 2, 2)\n",
    "sns.barplot(x='Survey\\'s country', y='Percent', data=sorted_snail_df, color='orange')\n",
    "plt.title('Snail as Percentage of Diet',fontweight='bold')\n",
    "plt.xlabel('Country',fontweight='bold')\n",
    "plt.ylabel('Percentage',fontweight='bold')\n",
    "plt.xticks(rotation=70)\n",
    "plt.tight_layout()\n"
   ]
  },
  {
   "cell_type": "code",
   "execution_count": null,
   "id": "f9c54c04",
   "metadata": {},
   "outputs": [],
   "source": [
    "meats_df = food_df[food_df['Exposure hierarchy (L1)']=='Meat and meat products']\n",
    "\n",
    "# I want to see beef specifically\n",
    "beef_df = meats_df[meats_df['Exposure hierarchy (L4)'].str.contains('beef|bovine',case=False)]"
   ]
  },
  {
   "cell_type": "code",
   "execution_count": null,
   "id": "417c3797",
   "metadata": {},
   "outputs": [],
   "source": [
    "beef_sum =  beef_df.groupby('Survey\\'s country')['Percent'].sum().reset_index()"
   ]
  },
  {
   "cell_type": "markdown",
   "id": "df74f66f",
   "metadata": {},
   "source": [
    "# Who loves beef?"
   ]
  },
  {
   "cell_type": "code",
   "execution_count": null,
   "id": "35eee158",
   "metadata": {},
   "outputs": [],
   "source": [
    "plt.figure(figsize=(10, 8))\n",
    "plt.pie(beef_sum['Percent'], labels=beef_sum['Survey\\'s country'], autopct='%1.1f%%', startangle=140)\n",
    "plt.axis('equal') \n",
    "plt.title('Percent Beef Consumption of toyal diet by Country',fontweight='bold')\n",
    "plt.show()"
   ]
  },
  {
   "cell_type": "code",
   "execution_count": null,
   "id": "af9ada8c",
   "metadata": {},
   "outputs": [],
   "source": [
    "# Filter the main dataframe by the total beverage intake by country\n",
    "\n",
    "criteria_bev = total_bev[['Survey\\'s country', 'Total grams']].values.tolist()\n",
    "\n",
    "# Create a dictionary \n",
    "criteria_dict = {row[0]: row[1] for row in criteria_bev}\n",
    "\n",
    "# Assign Total consumed value to a new column by country\n",
    "beverage_df['Total consumed'] = beverage_df['Survey\\'s country'].map(criteria_dict)"
   ]
  },
  {
   "cell_type": "code",
   "execution_count": null,
   "id": "3c11c4fd",
   "metadata": {},
   "outputs": [],
   "source": [
    "beverage_df['Percent'] = beverage_df['Total grams']/beverage_df['Total consumed']\n",
    "beverage_df['Percent']=beverage_df['Percent']*100\n"
   ]
  },
  {
   "cell_type": "code",
   "execution_count": null,
   "id": "dc75dca5",
   "metadata": {},
   "outputs": [],
   "source": [
    "# I want to see what people drink other than water\n",
    "\n",
    "nonwater_df = beverage_df[~beverage_df['Exposure hierarchy (L2)'].str.contains('water',case=False)]\n",
    "\n",
    "nonwater_perc = nonwater_df.groupby(['Survey\\'s country','Exposure hierarchy (L2)'])['Percent'].sum().reset_index()"
   ]
  },
  {
   "cell_type": "code",
   "execution_count": null,
   "id": "e7edeead",
   "metadata": {},
   "outputs": [],
   "source": [
    "nonwater_perc_total = nonwater_perc.groupby(['Survey\\'s country'])['Percent'].sum().reset_index()\n"
   ]
  },
  {
   "cell_type": "code",
   "execution_count": null,
   "id": "8cb63b94",
   "metadata": {},
   "outputs": [],
   "source": [
    "# I want to take the percentages of only non-water beverages as percent of non-water beverages\n",
    "\n",
    "criteria_alc_tot = nonwater_perc_total[['Survey\\'s country', 'Percent']].values.tolist()\n",
    " \n",
    "criteria_alc_tot_dict = {row[0]: row[1] for row in criteria_alc_tot}\n",
    "\n",
    "nonwater_perc['Functional perc total'] = nonwater_perc['Survey\\'s country'].map(criteria_alc_tot_dict)"
   ]
  },
  {
   "cell_type": "code",
   "execution_count": null,
   "id": "b012aaab",
   "metadata": {},
   "outputs": [],
   "source": [
    "nonwater_perc['Functional perc']=nonwater_perc['Percent']/nonwater_perc['Functional perc total']\n",
    "nonwater_perc['Functional perc']=nonwater_perc['Functional perc']*100"
   ]
  },
  {
   "cell_type": "markdown",
   "id": "e1646645",
   "metadata": {},
   "source": [
    "# What alcohol do people like to drink?"
   ]
  },
  {
   "cell_type": "code",
   "execution_count": null,
   "id": "95623af2",
   "metadata": {},
   "outputs": [],
   "source": [
    "import matplotlib.pyplot as plt\n",
    "\n",
    "# Get unique countries in the DataFrame\n",
    "unique_countries = nonwater_perc['Survey\\'s country'].unique()\n",
    "\n",
    "# Filter DF for each unique country and create pie charts\n",
    "for c in unique_countries:\n",
    "    country_data = nonwater_perc[nonwater_perc['Survey\\'s country'] == c]\n",
    "    group_data = country_data.groupby('Exposure hierarchy (L2)')['Functional perc'].sum()\n",
    "\n",
    "    # Group small values into 'Other' category\n",
    "    other_data = group_data[group_data > 3]\n",
    "    other_data['Other'] = group_data[group_data < 3].sum()\n",
    "\n",
    "    plt.figure(figsize=(8, 6))\n",
    "    plt.pie(other_data, labels=other_data.index, autopct='%1.1f%%')\n",
    "    plt.title(f'Favorite alcohol in {c}')\n",
    "    plt.show()\n",
    "    \n",
    "    if 'Beer and beer-like beverage' in other_data and other_data['Beer and beer-like beverage'] > largest_beer_slice:\n",
    "        largest_beer_slice = other_data['Beer and beer-like beverage']\n",
    "        largest_beer_country = c\n",
    "\n",
    "    if 'Wine and wine-like drinks' in other_data and other_data['Wine and wine-like drinks'] > largest_wine_slice:\n",
    "        largest_wine_slice = other_data['Wine and wine-like drinks']\n",
    "        largest_wine_country = c\n",
    "        \n",
    "print(f'''\n",
    "The country that loves Beer the most is {largest_beer_country}! With {largest_beer_slice:.1f} of its non-water beverage consumption, \n",
    "{largest_beer_country} loves this hoppy fizzy bar favourite \\n\n",
    "The country that loves Wine the most is {largest_wine_country}! With {largest_wine_slice:.1f} of its non-water beverage consumption,\n",
    "{largest_wine_country} loves this elegant and complex symbol of status''')\n",
    "        "
   ]
  },
  {
   "cell_type": "code",
   "execution_count": null,
   "id": "3e11e5f3",
   "metadata": {},
   "outputs": [],
   "source": [
    "wine_perc = nonwater_perc[nonwater_perc['Exposure hierarchy (L2)'].str.contains('wine',case=False)]"
   ]
  },
  {
   "cell_type": "code",
   "execution_count": null,
   "id": "8adf36f5",
   "metadata": {},
   "outputs": [],
   "source": [
    "wine_df = wine_perc[['Survey\\'s country','Functional perc']]\n"
   ]
  },
  {
   "cell_type": "markdown",
   "id": "2aaecfc7",
   "metadata": {},
   "source": [
    "# How does beef and wine go together?"
   ]
  },
  {
   "cell_type": "code",
   "execution_count": null,
   "id": "9d8cff5c",
   "metadata": {},
   "outputs": [],
   "source": [
    "merged_df = pd.merge(wine_df, beef_sum, on='Survey\\'s country')\n",
    "\n",
    "column_mapping = {\n",
    "    'Survey\\'s country': 'Country',\n",
    "    'Functional perc': 'Wine Percent',\n",
    "    'Percent': 'Beef Percent'\n",
    "}\n",
    "\n",
    "# Rename columns in the DataFrame\n",
    "merged_df = merged_df.rename(columns=column_mapping)\n",
    "\n",
    "plt.figure(figsize=(8, 6))\n",
    "scatterplot = sns.scatterplot(x='Wine Percentage', y='Beef Percentage', data=merged_df)\n",
    "sns.regplot(x='Wine Percentage', y='Beef Percentage', data=merged_df, scatter=False, ax=scatterplot)\n",
    "scatterplot.set_title('Scatterplot with Correlation Line', fontweight='bold')\n",
    "plt.show()\n"
   ]
  },
  {
   "cell_type": "code",
   "execution_count": null,
   "id": "e3ce49cf",
   "metadata": {},
   "outputs": [],
   "source": [
    "choc_df = food_df[food_df['Exposure hierarchy (L4)'].str.contains('chocolate',case=False)]"
   ]
  },
  {
   "cell_type": "code",
   "execution_count": null,
   "id": "1d41dacd",
   "metadata": {},
   "outputs": [],
   "source": [
    "choc_sum =  choc_df.groupby('Survey\\'s country')['Percent'].sum().reset_index()"
   ]
  },
  {
   "cell_type": "markdown",
   "id": "8638583f",
   "metadata": {},
   "source": [
    "# Saving the sweetest for last"
   ]
  },
  {
   "cell_type": "code",
   "execution_count": null,
   "id": "cc094416",
   "metadata": {},
   "outputs": [],
   "source": [
    "sorted_choc_sum = choc_sum.sort_values(by='Percent', ascending=True)\n",
    "\n",
    "plt.figure(figsize=(10, 6))\n",
    "sns.barplot(x='Survey\\'s country', y='Percent', data=sorted_choc_sum)\n",
    "plt.title('Chocolate as percentage of diet',fontweight='bold')\n",
    "plt.xticks(rotation=70) \n",
    "plt.xlabel('Country',fontweight='bold')\n",
    "plt.ylabel('Percentage',fontweight='bold')\n",
    "\n",
    "# Mark the highest and lowest bar with its percentage value\n",
    "highest_value = sorted_choc_sum['Percent'].iloc[-1]\n",
    "plt.text(len(sorted_choc_sum) - 1, highest_value, f'{highest_value:.1f}%', ha='center', va='bottom', fontsize=10)\n",
    "\n",
    "lowest_value = sorted_choc_sum['Percent'].iloc[0]\n",
    "plt.text(0, lowest_value, f'{lowest_value:.1f}%', ha='center', va='bottom', fontsize=10)\n",
    "\n",
    "plt.show()"
   ]
  },
  {
   "cell_type": "markdown",
   "id": "5db42f00",
   "metadata": {},
   "source": [
    "# Waffles are from Belgium"
   ]
  },
  {
   "cell_type": "code",
   "execution_count": null,
   "id": "4780d46b",
   "metadata": {},
   "outputs": [],
   "source": [
    "baked = food_df[food_df['Exposure hierarchy (L2)'].str.contains('fine bakery wares',case=False)]"
   ]
  },
  {
   "cell_type": "code",
   "execution_count": null,
   "id": "e7e33dfc",
   "metadata": {},
   "outputs": [],
   "source": [
    "# Adding total baked goods column as denominator in % calc\n",
    "\n",
    "baked_total = baked.groupby('Survey\\'s country')['Total grams'].sum().reset_index()\n",
    "            \n",
    "criteria_baked = baked_total[['Survey\\'s country', 'Total grams']].values.tolist()\n",
    "\n",
    "criteria_baked_dict = {row[0]: row[1] for row in criteria_baked}\n",
    "\n",
    "# Assign Total baked goods consumed value to a new column by country\n",
    "baked['Total baked goods consumed'] = baked['Survey\\'s country'].map(criteria_baked_dict)              "
   ]
  },
  {
   "cell_type": "code",
   "execution_count": null,
   "id": "e9d4a703",
   "metadata": {},
   "outputs": [],
   "source": [
    "baked['As perc of baked goods'] = baked['Total grams']/baked['Total baked goods consumed']"
   ]
  },
  {
   "cell_type": "code",
   "execution_count": null,
   "id": "4c7a8a63",
   "metadata": {},
   "outputs": [],
   "source": [
    "baked['As perc of baked goods']=baked['As perc of baked goods']*100"
   ]
  },
  {
   "cell_type": "code",
   "execution_count": null,
   "id": "5dc1ad1b",
   "metadata": {
    "scrolled": true
   },
   "outputs": [],
   "source": [
    "waffles = baked[baked['Exposure hierarchy (L4)'].str.contains('waffle',case=False)]"
   ]
  },
  {
   "cell_type": "code",
   "execution_count": null,
   "id": "57079e9d",
   "metadata": {},
   "outputs": [],
   "source": [
    "waffles_sum =  waffles.groupby('Survey\\'s country')['As perc of baked goods'].sum().reset_index()"
   ]
  },
  {
   "cell_type": "code",
   "execution_count": null,
   "id": "59472df4",
   "metadata": {},
   "outputs": [],
   "source": [
    "sorted_waffle = waffles_sum.sort_values(by='As perc of baked goods', ascending=True)\n",
    "\n",
    "plt.figure(figsize=(10, 6))\n",
    "sns.barplot(x='Survey\\'s country', y='As perc of baked goods', data=sorted_waffle)\n",
    "plt.title('Waffles as percentage of baked goods consumed',fontweight='bold')\n",
    "plt.xticks(rotation=70) \n",
    "plt.xlabel('Country',fontweight='bold')\n",
    "plt.ylabel('Percentage',fontweight='bold')\n",
    "\n",
    "# Mark the highest and lowest bar with its percentage value\n",
    "highest_value = sorted_waffle['As perc of baked goods'].iloc[-1]\n",
    "plt.text(len(sorted_waffle) - 1, highest_value, f'{highest_value:.1f}%', ha='center', va='bottom', fontsize=10)\n",
    "\n",
    "lowest_value = sorted_waffle['As perc of baked goods'].iloc[0]\n",
    "plt.text(0, lowest_value, f'{lowest_value:.1f}%', ha='center', va='bottom', fontsize=10)\n",
    "\n",
    "plt.show()"
   ]
  }
 ],
 "metadata": {
  "kernelspec": {
   "display_name": "Python 3",
   "language": "python",
   "name": "python3"
  },
  "language_info": {
   "codemirror_mode": {
    "name": "ipython",
    "version": 3
   },
   "file_extension": ".py",
   "mimetype": "text/x-python",
   "name": "python",
   "nbconvert_exporter": "python",
   "pygments_lexer": "ipython3",
   "version": "3.8.8"
  }
 },
 "nbformat": 4,
 "nbformat_minor": 5
}
